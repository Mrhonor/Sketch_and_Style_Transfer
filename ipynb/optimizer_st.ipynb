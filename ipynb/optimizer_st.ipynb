{
 "cells": [
  {
   "cell_type": "code",
   "execution_count": null,
   "metadata": {},
   "outputs": [],
   "source": [
    "import torch\n",
    "import itertools\n",
    "# Optimizers\n",
    "def Get_optimizers(args, G_AB,G_BA, D__B, D__A):\n",
    "    optimizer_G = torch.optim.Adam(\n",
    "                    itertools.chain(G_AB.parameters(), G_BA.parameters()),\n",
    "                    lr=args.lr, betas=(args.b1, args.b2))\n",
    "    optimizer_D_B = torch.optim.Adam(\n",
    "                    D__B.parameters(),\n",
    "                    lr=args.lr, betas=(args.b1, args.b2))\n",
    "    optimizer_D_A = torch.optim.Adam(\n",
    "                        D__A.parameters(),\n",
    "                        lr=args.lr, betas=(args.b1, args.b2))\n",
    "\n",
    "    return optimizer_G, optimizer_D_B, optimizer_D_A\n",
    "\n",
    "# Loss functions\n",
    "def Get_loss_func(args):\n",
    "    criterion_GAN = torch.nn.MSELoss()\n",
    "    criterion_cycle = torch.nn.L1Loss()\n",
    "    criterion_identity = torch.nn.L1Loss()\n",
    "    if torch.cuda.is_available():\n",
    "        criterion_GAN.cuda()\n",
    "        criterion_cycle.cuda()\n",
    "        criterion_identity.cuda()\n",
    "    return criterion_GAN, criterion_cycle, criterion_identity\n"
   ]
  }
 ],
 "metadata": {
  "kernelspec": {
   "display_name": "Python 3",
   "language": "python",
   "name": "python3"
  },
  "language_info": {
   "codemirror_mode": {
    "name": "ipython",
    "version": 3
   },
   "file_extension": ".py",
   "mimetype": "text/x-python",
   "name": "python",
   "nbconvert_exporter": "python",
   "pygments_lexer": "ipython3",
   "version": "3.7.3"
  }
 },
 "nbformat": 4,
 "nbformat_minor": 2
}
